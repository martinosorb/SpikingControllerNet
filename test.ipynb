{
 "cells": [
  {
   "cell_type": "code",
   "execution_count": 1,
   "metadata": {},
   "outputs": [],
   "source": [
    "import torch\n",
    "import matplotlib.pyplot as plt\n",
    "from utils import *\n",
    "from ControlledLayer import ControlledNetwork\n",
    "from tqdm.notebook import tqdm\n",
    "%load_ext autoreload\n",
    "%autoreload 2"
   ]
  },
  {
   "cell_type": "code",
   "execution_count": 2,
   "metadata": {},
   "outputs": [],
   "source": [
    "\n",
    "\n",
    "def control_neuron_rate(\n",
    "    input_rate,\n",
    "    target_rate,\n",
    "    control_target_rate,\n",
    "    timesteps,\n",
    "    C_precision=0.01,\n",
    "):\n",
    "    input_rate = torch.tensor(input_rate)\n",
    "    \n",
    "    out, cont = net.evolve_to_convergence(input_rate, target_rate, control_target_rate)\n",
    "\n",
    "    return out, cont"
   ]
  },
  {
   "cell_type": "code",
   "execution_count": 3,
   "metadata": {},
   "outputs": [
    {
     "name": "stdout",
     "output_type": "stream",
     "text": [
      "=== OLD FUNCTION ===\n",
      "[0.0012032200458068308] \n",
      " []\n",
      "1\n",
      "=== NEW FUNCTION ===\n",
      "[[0.00235232]] \n",
      " []\n",
      "1\n"
     ]
    }
   ],
   "source": [
    "from utils import control_neuron_rate as old_cnr\n",
    "\n",
    "input = [0.3, 0.09, 1.0]\n",
    "net = ControlledNetwork((3, 1), mode=\"rate\", leak=1.)\n",
    "layer = net.layers[0]\n",
    "w_0 = np.array([-5., 5., -5.]) \n",
    "layer.ff.weight.data = torch.tensor(w_0).float()\n",
    "layer.fb.weight.data = torch.tensor([1.]).float()\n",
    "\n",
    "print(\"=== OLD FUNCTION ===\")\n",
    "output, input_C = old_cnr(np.dot(input, w_0), 0, -1, timesteps=2)\n",
    "print(output, '\\n', input_C)\n",
    "print(len(output))\n",
    "\n",
    "\n",
    "print(\"=== NEW FUNCTION ===\")\n",
    "output, input_C = control_neuron_rate(input, 0, -1, timesteps=2)\n",
    "print(output, '\\n', input_C)\n",
    "print(len(output))\n",
    "\n"
   ]
  },
  {
   "cell_type": "code",
   "execution_count": 43,
   "metadata": {},
   "outputs": [],
   "source": [
    "v_th = 1\n",
    "target_rates = [-1, 2]\n",
    "learn_rate = 0.01\n",
    "regularizer_rate = 0.0  # 0.00005#\n",
    "C_precision = 0.01\n",
    "data_noise = 0.1\n",
    "timesteps = 2\n",
    "initial_steps_plot = 5\n",
    "neuron_noise = 0.\n",
    "\n",
    "plot_path = \"./plots/\"\n",
    "\n",
    "total_points = 6000\n",
    "w_0 = np.array([-5., 5., -5.]) \n",
    "X, y = learnAssociationTask(total_points, data_noise=data_noise)\n",
    "dynamic_plot_idxs = [1, 501, 2001, 9001]\n",
    "\n"
   ]
  },
  {
   "cell_type": "code",
   "execution_count": 49,
   "metadata": {},
   "outputs": [
    {
     "name": "stderr",
     "output_type": "stream",
     "text": [
      "/tmp/ipykernel_456599/3092097459.py:19: UserWarning: To copy construct from a tensor, it is recommended to use sourceTensor.clone().detach() or sourceTensor.clone().detach().requires_grad_(True), rather than torch.tensor(sourceTensor).\n",
      "  X = torch.tensor(X).float()\n"
     ]
    },
    {
     "data": {
      "application/vnd.jupyter.widget-view+json": {
       "model_id": "ed882802c3404bd6862b5291ad6f26f7",
       "version_major": 2,
       "version_minor": 0
      },
      "text/plain": [
       "  0%|          | 0/6000 [00:00<?, ?it/s]"
      ]
     },
     "metadata": {},
     "output_type": "display_data"
    },
    {
     "name": "stderr",
     "output_type": "stream",
     "text": [
      "/tmp/ipykernel_456599/1998600881.py:8: UserWarning: To copy construct from a tensor, it is recommended to use sourceTensor.clone().detach() or sourceTensor.clone().detach().requires_grad_(True), rather than torch.tensor(sourceTensor).\n",
      "  input_rate = torch.tensor(input_rate)\n"
     ]
    }
   ],
   "source": [
    "net = ControlledNetwork((3, 1), mode=\"rate\", leak=1., stdp_tau=2.54)\n",
    "layer = net.layers[0]\n",
    "w_0 = np.array([[-5., 5., -5.]]) \n",
    "layer.ff.weight.data = torch.tensor(w_0).float()\n",
    "layer.fb.weight.data = torch.tensor([1.]).float()\n",
    "\n",
    "w_evol = []\n",
    "control_evol = []\n",
    "FF_output_evol = []\n",
    "time_to_targ_evol = []\n",
    "DW_DH_list = []\n",
    "DW_STDP_list = []\n",
    "DW_STDPLocal_list = []\n",
    "list_output_dynamics = []\n",
    "list_controller_dynamics = []\n",
    "\n",
    "count_1 = 0\n",
    "next_dyn_plot_idx = 0\n",
    "X = torch.tensor(X).float()\n",
    "\n",
    "optim = torch.optim.SGD(net.parameters(), lr=0.01, momentum=0.9)\n",
    "\n",
    "\n",
    "# loop over datapoints\n",
    "for idx in tqdm(range(len(y))):\n",
    "    target_rate = y[idx]\n",
    "    x = X[idx]\n",
    "    control_target_rate = target_rates[target_rate]\n",
    "    optim.zero_grad()\n",
    "\n",
    "    # FORWARD, with controller controlling\n",
    "    output, input_C = control_neuron_rate(x, target_rate, control_target_rate, timesteps=timesteps)\n",
    "    R = len(output) - 1  # number of timesteps the controller had to act?\n",
    "\n",
    "    if R > 0:  # avoids learning if the feedback is already good\n",
    "        # print(R)\n",
    "        presynaptic_rates = torch.sigmoid(x).unsqueeze(0).expand((R, -1)).numpy()\n",
    "        Dw_DH = update_weights_rates(output[:-1], presynaptic_rates)\n",
    "        Dw_STDP = update_weights_poisson(output[:-1], presynaptic_rates)\n",
    "        # print(Dw_STDP)\n",
    "        # print(layer.ff.weight.grad * 0.01)\n",
    "        optim.step()\n",
    "    \n",
    "        DW_DH_list.append(Dw_DH)\n",
    "        DW_STDP_list.append(Dw_STDP)\n",
    "        DW_STDPLocal_list.append(-layer.ff.weight.grad.clone().numpy() * 0.01)\n",
    "\n",
    "    count_1 += y[idx]\n",
    "    if count_1 == dynamic_plot_idxs[next_dyn_plot_idx]:\n",
    "        list_output_dynamics.append(output[1:])\n",
    "        list_controller_dynamics.append(input_C)\n",
    "        next_dyn_plot_idx = (next_dyn_plot_idx + 1) % len(dynamic_plot_idxs)\n",
    "\n",
    "    w_evol.append(layer.ff.weight.data.squeeze().clone().numpy())\n",
    "    FF_output_evol.append(output[0])\n",
    "    time_to_targ_evol.append(len(input_C))\n",
    "\n",
    "    if len(input_C) > 1:\n",
    "        control_evol.append(input_C[-1])\n",
    "    else:\n",
    "        control_evol.append(0)\n",
    "\n"
   ]
  },
  {
   "cell_type": "code",
   "execution_count": 50,
   "metadata": {},
   "outputs": [
    {
     "name": "stderr",
     "output_type": "stream",
     "text": [
      "The PostScript backend does not support transparency; partially transparent artists will be rendered opaque.\n"
     ]
    },
    {
     "data": {
      "image/png": "[encoded data removed]",
      "text/plain": [
       "<Figure size 432x288 with 1 Axes>"
      ]
     },
     "metadata": {
      "needs_background": "light"
     },
     "output_type": "display_data"
    },
    {
     "name": "stderr",
     "output_type": "stream",
     "text": [
      "The PostScript backend does not support transparency; partially transparent artists will be rendered opaque.\n"
     ]
    },
    {
     "data": {
      "image/png": "[encoded data removed]",
      "text/plain": [
       "<Figure size 432x288 with 1 Axes>"
      ]
     },
     "metadata": {
      "needs_background": "light"
     },
     "output_type": "display_data"
    },
    {
     "ename": "IndexError",
     "evalue": "index 0 is out of bounds for axis 0 with size 0",
     "output_type": "error",
     "traceback": [
      "\u001b[0;31m---------------------------------------------------------------------------\u001b[0m",
      "\u001b[0;31mIndexError\u001b[0m                                Traceback (most recent call last)",
      "\u001b[1;32m/home/martino/Desktop/DFC-STDP/test.ipynb Cell 6\u001b[0m in \u001b[0;36m<cell line: 39>\u001b[0;34m()\u001b[0m\n\u001b[1;32m     <a href='vscode-notebook-cell:/home/martino/Desktop/DFC-STDP/test.ipynb#X10sZmlsZQ%3D%3D?line=40'>41</a>\u001b[0m dynamics \u001b[39m=\u001b[39m list_output_dynamics[i]\n\u001b[1;32m     <a href='vscode-notebook-cell:/home/martino/Desktop/DFC-STDP/test.ipynb#X10sZmlsZQ%3D%3D?line=41'>42</a>\u001b[0m \u001b[39m# init_dynamics, v = runNeuron_rate([0]*initial_steps_plot)\u001b[39;00m\n\u001b[0;32m---> <a href='vscode-notebook-cell:/home/martino/Desktop/DFC-STDP/test.ipynb#X10sZmlsZQ%3D%3D?line=42'>43</a>\u001b[0m init_dynamics \u001b[39m=\u001b[39m [\n\u001b[1;32m     <a href='vscode-notebook-cell:/home/martino/Desktop/DFC-STDP/test.ipynb#X10sZmlsZQ%3D%3D?line=43'>44</a>\u001b[0m     dynamics[\u001b[39m0\u001b[39m] \u001b[39m+\u001b[39m n \u001b[39m*\u001b[39m neuron_noise \u001b[39m/\u001b[39m \u001b[39m2\u001b[39m\n\u001b[1;32m     <a href='vscode-notebook-cell:/home/martino/Desktop/DFC-STDP/test.ipynb#X10sZmlsZQ%3D%3D?line=44'>45</a>\u001b[0m     \u001b[39mfor\u001b[39;00m n \u001b[39min\u001b[39;00m np\u001b[39m.\u001b[39mrandom\u001b[39m.\u001b[39mrandn(initial_steps_plot)\n\u001b[1;32m     <a href='vscode-notebook-cell:/home/martino/Desktop/DFC-STDP/test.ipynb#X10sZmlsZQ%3D%3D?line=45'>46</a>\u001b[0m ]\n\u001b[1;32m     <a href='vscode-notebook-cell:/home/martino/Desktop/DFC-STDP/test.ipynb#X10sZmlsZQ%3D%3D?line=46'>47</a>\u001b[0m list_to_plot \u001b[39m=\u001b[39m np\u001b[39m.\u001b[39mvstack((init_dynamics, dynamics))\n\u001b[1;32m     <a href='vscode-notebook-cell:/home/martino/Desktop/DFC-STDP/test.ipynb#X10sZmlsZQ%3D%3D?line=47'>48</a>\u001b[0m plt\u001b[39m.\u001b[39mplot(list_to_plot, label\u001b[39m=\u001b[39mstr_dynamics)\n",
      "\u001b[1;32m/home/martino/Desktop/DFC-STDP/test.ipynb Cell 6\u001b[0m in \u001b[0;36m<listcomp>\u001b[0;34m(.0)\u001b[0m\n\u001b[1;32m     <a href='vscode-notebook-cell:/home/martino/Desktop/DFC-STDP/test.ipynb#X10sZmlsZQ%3D%3D?line=40'>41</a>\u001b[0m dynamics \u001b[39m=\u001b[39m list_output_dynamics[i]\n\u001b[1;32m     <a href='vscode-notebook-cell:/home/martino/Desktop/DFC-STDP/test.ipynb#X10sZmlsZQ%3D%3D?line=41'>42</a>\u001b[0m \u001b[39m# init_dynamics, v = runNeuron_rate([0]*initial_steps_plot)\u001b[39;00m\n\u001b[1;32m     <a href='vscode-notebook-cell:/home/martino/Desktop/DFC-STDP/test.ipynb#X10sZmlsZQ%3D%3D?line=42'>43</a>\u001b[0m init_dynamics \u001b[39m=\u001b[39m [\n\u001b[0;32m---> <a href='vscode-notebook-cell:/home/martino/Desktop/DFC-STDP/test.ipynb#X10sZmlsZQ%3D%3D?line=43'>44</a>\u001b[0m     dynamics[\u001b[39m0\u001b[39;49m] \u001b[39m+\u001b[39m n \u001b[39m*\u001b[39m neuron_noise \u001b[39m/\u001b[39m \u001b[39m2\u001b[39m\n\u001b[1;32m     <a href='vscode-notebook-cell:/home/martino/Desktop/DFC-STDP/test.ipynb#X10sZmlsZQ%3D%3D?line=44'>45</a>\u001b[0m     \u001b[39mfor\u001b[39;00m n \u001b[39min\u001b[39;00m np\u001b[39m.\u001b[39mrandom\u001b[39m.\u001b[39mrandn(initial_steps_plot)\n\u001b[1;32m     <a href='vscode-notebook-cell:/home/martino/Desktop/DFC-STDP/test.ipynb#X10sZmlsZQ%3D%3D?line=45'>46</a>\u001b[0m ]\n\u001b[1;32m     <a href='vscode-notebook-cell:/home/martino/Desktop/DFC-STDP/test.ipynb#X10sZmlsZQ%3D%3D?line=46'>47</a>\u001b[0m list_to_plot \u001b[39m=\u001b[39m np\u001b[39m.\u001b[39mvstack((init_dynamics, dynamics))\n\u001b[1;32m     <a href='vscode-notebook-cell:/home/martino/Desktop/DFC-STDP/test.ipynb#X10sZmlsZQ%3D%3D?line=47'>48</a>\u001b[0m plt\u001b[39m.\u001b[39mplot(list_to_plot, label\u001b[39m=\u001b[39mstr_dynamics)\n",
      "\u001b[0;31mIndexError\u001b[0m: index 0 is out of bounds for axis 0 with size 0"
     ]
    },
    {
     "data": {
      "image/png": "[encoded data removed]",
      "text/plain": [
       "<Figure size 432x288 with 1 Axes>"
      ]
     },
     "metadata": {
      "needs_background": "light"
     },
     "output_type": "display_data"
    }
   ],
   "source": [
    "plt.show()\n",
    "\n",
    "# ax = plt.axes()\n",
    "# ax.set_facecolor(\"white\")\n",
    "plt.plot(w_evol)\n",
    "plt.legend([\"$w_{A->C}$\", \"$w_{B->C}$\", \"$w_{bias}$\"])\n",
    "plt.xlabel(\"Example\")\n",
    "plt.ylabel(\"Weights\")\n",
    "plt.savefig(\n",
    "    plot_path + \"WeightEvolution.eps\", bbox_inches=\"tight\", format=\"eps\"\n",
    ")\n",
    "\n",
    "plt.show()\n",
    "\n",
    "# Benni: Fig 2, panel 1. Normalized to have the maximum at 1\n",
    "max_FF = max(FF_output_evol)\n",
    "max_C = max(control_evol)\n",
    "max_T = max(time_to_targ_evol)\n",
    "control_evol_norm = [c / max_C for (c, s) in zip(control_evol, y) if s == 1]\n",
    "FF_output_evol_norm = [\n",
    "    (1 - f) ** 2 for (f, s) in zip(FF_output_evol, y) if s == 1\n",
    "]\n",
    "time_to_output_evol_norm = [\n",
    "    t / max_T for (t, s) in zip(time_to_targ_evol, y) if s == 1\n",
    "]\n",
    "plt.plot(control_evol_norm, label=\"Feedback\")\n",
    "plt.plot(FF_output_evol_norm, label=\"MSE Error\")\n",
    "plt.plot(time_to_output_evol_norm, label=\"Time to target output\")\n",
    "plt.xlabel(\"Example\")\n",
    "plt.ylabel(\"Loss\")\n",
    "plt.title(\"Loss functions for class 1\")\n",
    "plt.legend()\n",
    "plt.savefig(\n",
    "    plot_path + \"OptimizationFunctions.eps\", bbox_inches=\"tight\", format=\"eps\"\n",
    ")\n",
    "plt.show()\n",
    "\n",
    "# Benni: Fig 4 A\n",
    "for i in range(len(list_output_dynamics)):\n",
    "    str_dynamics = \"Dynamics at example \" + str(dynamic_plot_idxs[i] - 1)\n",
    "    dynamics = list_output_dynamics[i]\n",
    "    # init_dynamics, v = runNeuron_rate([0]*initial_steps_plot)\n",
    "    init_dynamics = [\n",
    "        dynamics[0] + n * neuron_noise / 2\n",
    "        for n in np.random.randn(initial_steps_plot)\n",
    "    ]\n",
    "    list_to_plot = np.vstack((init_dynamics, dynamics))\n",
    "    plt.plot(list_to_plot, label=str_dynamics)\n",
    "# plt.plot(output, label=\"Dynamics at last example\")\n",
    "plt.ylim([0.0, 1])\n",
    "plt.xlabel(\"Time\")\n",
    "plt.ylabel(\"Output rate\")\n",
    "plt.legend()\n",
    "plt.savefig(\n",
    "    plot_path + \"TemporalDynamics.eps\", bbox_inches=\"tight\", format=\"eps\"\n",
    ")\n",
    "plt.show()\n",
    "\n",
    "for i in range(len(list_output_dynamics)):\n",
    "    str_dynamics = \"Feedback at example \" + str(dynamic_plot_idxs[i] - 1)\n",
    "    init_ctr = list_controller_dynamics[i]\n",
    "    init_control = [\n",
    "        init_ctr[0] + n * neuron_noise / 2\n",
    "        for n in np.random.randn(initial_steps_plot)\n",
    "    ]\n",
    "    list_to_plot = np.vstack((init_control, list_controller_dynamics[i]))\n",
    "    plt.plot(list_to_plot, label=str_dynamics)\n",
    "\n",
    "# plt.plot(input_C, label=\"Feedback at last example\")\n",
    "plt.xlabel(\"Time\")\n",
    "plt.ylabel(\"Feedback strength\")\n",
    "plt.legend()\n",
    "plt.show()\n",
    "plt.savefig(\n",
    "    plot_path + \"TemporalFeedback.eps\", bbox_inches=\"tight\", format=\"eps\"\n",
    ")\n",
    "# STDP vs dendritic error update\n",
    "L_errors = int(\n",
    "    len(DW_DH_list) / 2\n",
    ")  # when plotting errors after learning we get noise\n",
    "plt.scatter(DW_DH_list[:L_errors], DW_STDP_list[:L_errors], s=2)\n",
    "plt.xlabel(\"STDP weight update\")\n",
    "plt.ylabel(\"Dendritic error update\")\n",
    "plt.savefig(plot_path + \"STDP_vs_DH.eps\", bbox_inches=\"tight\", format=\"eps\")\n",
    "\n",
    "plt.show()\n"
   ]
  },
  {
   "cell_type": "code",
   "execution_count": 46,
   "metadata": {},
   "outputs": [
    {
     "data": {
      "image/png": "[encoded data removed]",
      "text/plain": [
       "<Figure size 432x288 with 1 Axes>"
      ]
     },
     "metadata": {
      "needs_background": "light"
     },
     "output_type": "display_data"
    }
   ],
   "source": [
    "DW_STDPs = np.asarray(DW_STDP_list)\n",
    "DW_STDPLocals = np.asarray(DW_STDPLocal_list).squeeze()\n",
    "plt.plot(DW_STDPs, DW_STDPLocals, ',', )\n",
    "\n",
    "plt.gca().set_aspect('equal')"
   ]
  },
  {
   "cell_type": "code",
   "execution_count": null,
   "metadata": {},
   "outputs": [],
   "source": []
  }
 ],
 "metadata": {
  "kernelspec": {
   "display_name": "Python 3.9.12 64-bit ('3.9-dev')",
   "language": "python",
   "name": "python3"
  },
  "language_info": {
   "codemirror_mode": {
    "name": "ipython",
    "version": 3
   },
   "file_extension": ".py",
   "mimetype": "text/x-python",
   "name": "python",
   "nbconvert_exporter": "python",
   "pygments_lexer": "ipython3",
   "version": "3.9.12+"
  },
  "orig_nbformat": 4,
  "vscode": {
   "interpreter": {
    "hash": "186cd8c4f0b0dbebea81eba1c1eaf1b2d8963339b006329460d041cc355850aa"
   }
  }
 },
 "nbformat": 4,
 "nbformat_minor": 2
}
